{
 "cells": [
  {
   "cell_type": "markdown",
   "id": "3f9aee4f",
   "metadata": {},
   "source": [
    "# Assignment 1"
   ]
  },
  {
   "cell_type": "markdown",
   "id": "04670a7e",
   "metadata": {},
   "source": [
    "Introduction about yourself\n",
    "\n",
    "Make an introduction video of yourself Inculcating the take away from the session.\n",
    "\n",
    "    \n",
    "Guidelines"
   ]
  },
  {
   "cell_type": "markdown",
   "id": "c90497e5",
   "metadata": {},
   "source": [
    "1. Brainstorm the pointers you want to include in your introduction"
   ]
  },
  {
   "cell_type": "markdown",
   "id": "84e19e40",
   "metadata": {},
   "source": [
    "# Think about the information you want to include\n"
   ]
  },
  {
   "cell_type": "markdown",
   "id": "5d9b6db8",
   "metadata": {},
   "source": [
    "The first step while writing the self-introduction is to think about all the important information you want the interviewer to know. This information can include your achievements, your qualifications, real-life examples from your past, your strengths and your career objectives. This can help you ensure you include all the important information you want to convey. It is important to make bullet points at this stage under the brief headings so that you can remember each of them when you deliver the introduction."
   ]
  },
  {
   "cell_type": "markdown",
   "id": "7a1b27e3",
   "metadata": {},
   "source": [
    "#  Brainstorm all the points\n"
   ]
  },
  {
   "cell_type": "markdown",
   "id": "60cfd71d",
   "metadata": {},
   "source": [
    "Once you have the main heading points, the next step is to brainstorm what you want to include under each of them. Make a note of all your thoughts so that you can identify them later and determine what you want to include in the final speech. You can refer to some examples available on the Internet to understand the information you can include."
   ]
  },
  {
   "cell_type": "markdown",
   "id": "ae73bafe",
   "metadata": {},
   "source": [
    "#  Make the information presentable\n"
   ]
  },
  {
   "cell_type": "markdown",
   "id": "d300a8fd",
   "metadata": {},
   "source": [
    "The next step is to determine how you can present your information impressively. Consider each of your pointers and ideate how to make them presentable. It is important to give all your information cordially, as it can help in keeping the recruiter engaged throughout the conversation. Think about ways in which you can present your information as a story. Instead of simply stating what you have achieved, you can talk about your motivation behind it."
   ]
  },
  {
   "cell_type": "markdown",
   "id": "924f5881",
   "metadata": {},
   "source": [
    "2. Focus on non verbal aspects of communication.\n",
    "\n",
    "\n",
    "When we talk of communication, we typically think of verbal communication, which is done through the spoken word. However, most of our communication is nonverbal, even in our day-to-day life. Unconsciously, we end up communicating a lot through nonverbal communication.\n",
    "Nonverbal communication refers to communication carried out in mediums other than verbal. It includes actions, body language, and gestures to convey various emotions. It also has one’s appearance, posture, and tone of your voice.\n",
    "At work, managers and leaders communicate a lot in meetings and even otherwise. Their eyes, tone, and body movements may be sharing a lot which will help strengthen the message of their verbal communication. Therefore, managers and leaders need to focus on utilizing their nonverbal communication skills in the most effective manner possible. To do so, let us begin by understanding the types of nonverbal communication."
   ]
  },
  {
   "cell_type": "markdown",
   "id": "281e75e8",
   "metadata": {},
   "source": [
    "# Focus on appearances\n"
   ]
  },
  {
   "cell_type": "markdown",
   "id": "d4e2f23d",
   "metadata": {},
   "source": [
    "Your posture, body language, and voice are just as important as your eye contact and facial expression. Make sure you focus on appearing confident and at ease. Try to avoid fidgeting or constantly adjusting something on your body – this gives the impression that you are uncomfortable. Moreover, take care of your appearance. It includes dressing smartly and preparing yourself properly before leaving for work. Your attention to personal care and details can help others increase their faith in your ability and desire to maintain a similar level of care towards your work. It boosts their confidence in your work ethic.\n"
   ]
  },
  {
   "cell_type": "markdown",
   "id": "4ac42786",
   "metadata": {},
   "source": [
    "# The importance of nonverbal communication in the workplace\n"
   ]
  },
  {
   "cell_type": "markdown",
   "id": "8b596370",
   "metadata": {},
   "source": [
    "In today’s world, nonverbal communication is more critical than ever. It can help to build trust and credibility, as well as maintain relationships. If you’re unaware of the importance of nonverbal communication in the workplace, it’s time to start paying attention. Here are five reasons why you need to focus on it:\n",
    "It strengthens and delivers your message with clarity.\n",
    "Nonverbal communication helps others identify your message’s important parts and key areas.\n",
    "Managers can use nonverbal communication to show interest, boosting motivation and engagement.\n",
    "It helps build your perception and image.\n",
    "Mastering nonverbal communication helps you become an effective communicator at work and enables you to do your job effectively.\n"
   ]
  },
  {
   "cell_type": "code",
   "execution_count": null,
   "id": "c449c88e",
   "metadata": {},
   "outputs": [],
   "source": []
  }
 ],
 "metadata": {
  "kernelspec": {
   "display_name": "Python 3 (ipykernel)",
   "language": "python",
   "name": "python3"
  },
  "language_info": {
   "codemirror_mode": {
    "name": "ipython",
    "version": 3
   },
   "file_extension": ".py",
   "mimetype": "text/x-python",
   "name": "python",
   "nbconvert_exporter": "python",
   "pygments_lexer": "ipython3",
   "version": "3.9.13"
  }
 },
 "nbformat": 4,
 "nbformat_minor": 5
}
