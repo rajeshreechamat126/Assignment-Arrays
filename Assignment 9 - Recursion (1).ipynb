{
 "cells": [
  {
   "cell_type": "markdown",
   "id": "6db747ef",
   "metadata": {},
   "source": [
    "# Assignment 9 - Recursion"
   ]
  },
  {
   "cell_type": "code",
   "execution_count": null,
   "id": "f7accb2a",
   "metadata": {},
   "outputs": [],
   "source": [
    "Question 1\n",
    "\n",
    "Given an integer n, return true if it is a power of two. Otherwise, return false.\n",
    "\n",
    "\n",
    "An integer n is a power of two, if there exists an integer x such that n == 2x.\n",
    "\n",
    "Example 1:\n",
    "Input: n = 1 \n",
    "\n",
    "Output: true\n",
    "\n",
    "Example 2:\n",
    "Input: n = 16 \n",
    "\n",
    "Output: true\n",
    "\n",
    "Example 3:\n",
    "Input: n = 3 \n",
    "\n",
    "Output: false\n"
   ]
  },
  {
   "cell_type": "code",
   "execution_count": 1,
   "id": "d19b3d02",
   "metadata": {},
   "outputs": [
    {
     "name": "stdout",
     "output_type": "stream",
     "text": [
      "No\n",
      "Yes\n"
     ]
    }
   ],
   "source": [
    "# Python3 Program to find\n",
    "# whether a no is\n",
    "# power of two\n",
    "import math\n",
    " \n",
    "# Function to check\n",
    "# Log base 2\n",
    " \n",
    " \n",
    "def Log2(x):\n",
    "    if x == 0:\n",
    "        return false\n",
    " \n",
    "    return (math.log10(x) /\n",
    "            math.log10(2))\n",
    " \n",
    "# Function to check\n",
    "# if x is power of 2\n",
    " \n",
    " \n",
    "def isPowerOfTwo(n):\n",
    "    return (math.ceil(Log2(n)) ==\n",
    "            math.floor(Log2(n)))\n",
    " \n",
    " \n",
    "# Driver Code\n",
    "if __name__ == \"__main__\":\n",
    " \n",
    "    # Function call\n",
    "    if(isPowerOfTwo(31)):\n",
    "        print(\"Yes\")\n",
    "    else:\n",
    "        print(\"No\")\n",
    " \n",
    "    if(isPowerOfTwo(64)):\n",
    "        print(\"Yes\")\n",
    "    else:\n",
    "        print(\"No\")\n",
    " \n",
    "# This code is contributed\n",
    "# by mits"
   ]
  },
  {
   "cell_type": "code",
   "execution_count": null,
   "id": "1827e328",
   "metadata": {},
   "outputs": [],
   "source": []
  },
  {
   "cell_type": "code",
   "execution_count": null,
   "id": "1305fa75",
   "metadata": {},
   "outputs": [],
   "source": [
    "Question 2\n",
    "\n",
    "Given a number n, find the sum of the first natural numbers.\n",
    "\n",
    "Example 1:\n",
    "\n",
    "Input: n = 3 \n",
    "\n",
    "Output: 6\n",
    "\n",
    "Example 2:\n",
    "\n",
    "Input  : 5 \n",
    "\n",
    "Output : 15\n"
   ]
  },
  {
   "cell_type": "code",
   "execution_count": null,
   "id": "867e97e1",
   "metadata": {},
   "outputs": [],
   "source": [
    "# PYTHON program to find sum of first\n",
    "# n natural numbers.\n",
    "\n",
    "# Returns sum of first n natural\n",
    "# numbers\n",
    "def findSum(n):\n",
    "\tsum = 0\n",
    "\tx = 1\n",
    "\twhile x <= n:\n",
    "\t\tsum = sum + x\n",
    "\t\tx = x + 1\n",
    "\treturn sum\n",
    "\n",
    "\n",
    "# Driver code\n",
    "n = 5\n",
    "print findSum(n)\n"
   ]
  },
  {
   "cell_type": "code",
   "execution_count": null,
   "id": "99075da3",
   "metadata": {},
   "outputs": [],
   "source": [
    "Question 3\n",
    "\n",
    "Given a positive integer, N. Find the factorial of N. \n",
    "\n",
    "Example 1:\n",
    "\n",
    "Input: N = 5 \n",
    "\n",
    "Output: 120\n",
    "\n",
    "Example 2:\n",
    "\n",
    "Input: N = 4\n",
    "\n",
    "Output: 24\n"
   ]
  },
  {
   "cell_type": "code",
   "execution_count": 14,
   "id": "2240c5f4",
   "metadata": {},
   "outputs": [
    {
     "name": "stdout",
     "output_type": "stream",
     "text": [
      "Factorial of 5 is 120\n"
     ]
    }
   ],
   "source": [
    "# Python 3 program to find\n",
    "# factorial of given number\n",
    "\n",
    "# Function to find factorial of given number\n",
    "def factorial(n):\n",
    "\t\n",
    "\tif n == 0:\n",
    "\t\treturn 1\n",
    "\t\n",
    "\treturn n * factorial(n-1)\n",
    "\n",
    "# Driver Code\n",
    "num = 5;\n",
    "print(\"Factorial of\", num, \"is\",\n",
    "factorial(num))\n",
    "\n",
    "# This code is contributed by Smitha Dinesh Semwal\n"
   ]
  },
  {
   "cell_type": "code",
   "execution_count": null,
   "id": "d6bea66f",
   "metadata": {},
   "outputs": [],
   "source": []
  },
  {
   "cell_type": "code",
   "execution_count": null,
   "id": "b60fc490",
   "metadata": {},
   "outputs": [],
   "source": [
    "Question 4\n",
    "\n",
    "Given a number N and a power P, the task is to find the exponent of this number raised to the given power, i.e. N^P.\n",
    "\n",
    "Example 1 :\n",
    "\n",
    "Input: N = 5, P = 2\n",
    "\n",
    "Output: 25\n",
    "\n",
    "Example 2 :\n",
    "Input: N = 2, P = 5\n",
    "\n",
    "Output: 32\n"
   ]
  },
  {
   "cell_type": "code",
   "execution_count": 6,
   "id": "b2154afe",
   "metadata": {},
   "outputs": [
    {
     "name": "stdout",
     "output_type": "stream",
     "text": [
      "25\n"
     ]
    }
   ],
   "source": [
    "# Python3 code to recursively find\n",
    "# the power of a number\n",
    " \n",
    "# Recursive function to find N^P.\n",
    "def power(N, P):\n",
    " \n",
    "    # If power is 0 then return 1\n",
    "    # if condition is true\n",
    "    # only then it will enter it,\n",
    "    # otherwise not\n",
    "    if P == 0:\n",
    "        return 1\n",
    " \n",
    "    # Recurrence relation\n",
    "    return (N*power(N, P-1))\n",
    " \n",
    " \n",
    "# Driver code\n",
    "if __name__ == '__main__':\n",
    "    N = 5\n",
    "    P = 2\n",
    " \n",
    "    print(power(N, P))\n",
    "\n",
    "    \n",
    "    "
   ]
  },
  {
   "cell_type": "code",
   "execution_count": null,
   "id": "31e00400",
   "metadata": {},
   "outputs": [],
   "source": []
  },
  {
   "cell_type": "code",
   "execution_count": null,
   "id": "785ca13d",
   "metadata": {},
   "outputs": [],
   "source": [
    "Question 5\n",
    "\n",
    "Given an array of integers arr, the task is to find maximum element of that array using recursion.\n",
    "\n",
    "Example 1:\n",
    "\n",
    "Input: arr = {1, 4, 3, -5, -4, 8, 6};\n",
    "Output: 8\n",
    "\n",
    "Example 2:\n",
    "\n",
    "Input: arr = {1, 4, 45, 6, 10, -8};\n",
    "Output: 45\n"
   ]
  },
  {
   "cell_type": "code",
   "execution_count": 8,
   "id": "8e384dbd",
   "metadata": {},
   "outputs": [
    {
     "name": "stdout",
     "output_type": "stream",
     "text": [
      "-50\n"
     ]
    }
   ],
   "source": [
    "# Recursive python 3 program to\n",
    "# find minimum\n",
    "\n",
    "# function to print Minimum element\n",
    "# using recursion\n",
    "def findMinRec(A, n):\n",
    "\t\n",
    "\t# if size = 0 means whole array\n",
    "\t# has been traversed\n",
    "\tif (n == 1):\n",
    "\t\treturn A[0]\n",
    "\treturn min(A[n - 1], findMinRec(A, n - 1))\n",
    "\n",
    "# Driver Code\n",
    "if __name__ == '__main__':\n",
    "\tA = [1, 4, 45, 6, -50, 10, 2]\n",
    "\tn = len(A)\n",
    "\tprint(findMinRec(A, n))\n",
    "\n",
    "# This code is contributed by\n",
    "# Shashank_Sharma\n"
   ]
  },
  {
   "cell_type": "code",
   "execution_count": null,
   "id": "b0e279b0",
   "metadata": {},
   "outputs": [],
   "source": []
  },
  {
   "cell_type": "code",
   "execution_count": null,
   "id": "13f42d99",
   "metadata": {},
   "outputs": [],
   "source": [
    "Question 6\n",
    "\n",
    "Given first term (a), common difference (d) and a integer N of the Arithmetic Progression series, the task is to find Nth term of the series.\n",
    "\n",
    "Example 1:\n",
    "\n",
    "Input : a = 2 d = 1 N = 5\n",
    "Output : 6\n",
    "The 5th term of the series is : 6\n",
    "\n",
    "Example 2:\n",
    "\n",
    "Input : a = 5 d = 2 N = 10\n",
    "Output : 23\n",
    "The 10th term of the series is : 23\n",
    "\n"
   ]
  },
  {
   "cell_type": "code",
   "execution_count": 10,
   "id": "10d487c5",
   "metadata": {},
   "outputs": [
    {
     "name": "stdout",
     "output_type": "stream",
     "text": [
      "The  5 th term of the series is :  6\n"
     ]
    }
   ],
   "source": [
    "# Python 3 Program to\n",
    "# find nth term of\n",
    "# Arithmetic progression\n",
    "\n",
    "def Nth_of_AP(a, d, N) :\n",
    "\n",
    "\t# using formula to find the\n",
    "\t# Nth term t(n) = a(1) + (n-1)*d\n",
    "\treturn (a + (N - 1) * d)\n",
    "\t\n",
    "\n",
    "# Driver code\n",
    "a = 2 # starting number\n",
    "d = 1 # Common difference\n",
    "N = 5 # N th term to be find\n",
    "\n",
    "# Display the output\n",
    "print( \"The \", N ,\"th term of the series is : \",\n",
    "\tNth_of_AP(a, d, N))\n",
    "\n",
    "\n",
    "\n",
    "# This code is contributed\n",
    "# by Nikita Tiwari.\n"
   ]
  },
  {
   "cell_type": "code",
   "execution_count": null,
   "id": "10aea129",
   "metadata": {},
   "outputs": [],
   "source": []
  },
  {
   "cell_type": "code",
   "execution_count": null,
   "id": "e14887c7",
   "metadata": {},
   "outputs": [],
   "source": [
    "Question 7\n",
    "Given a string S, the task is to write a program to print all permutations of a given string. \n",
    "Example 1: Input: S = “ABC” Output: “ABC”, “ACB”, “BAC”, “BCA”, “CBA”, “CAB” \n",
    "Example 2: Input: S = “XY” Output: “XY”, “YX”\n",
    "\n"
   ]
  },
  {
   "cell_type": "code",
   "execution_count": 12,
   "id": "dca0abc5",
   "metadata": {},
   "outputs": [
    {
     "name": "stdout",
     "output_type": "stream",
     "text": [
      "ABC\n",
      "ACB\n",
      "BAC\n",
      "BCA\n",
      "CBA\n",
      "CAB\n"
     ]
    }
   ],
   "source": [
    "# Python3 program to print all permutations with\n",
    "# duplicates allowed\n",
    "\n",
    "\n",
    "def toString(List):\n",
    "\treturn ''.join(List)\n",
    "\n",
    "# Function to print permutations of string\n",
    "# This function takes three parameters:\n",
    "# 1. String\n",
    "# 2. Starting index of the string\n",
    "# 3. Ending index of the string.\n",
    "\n",
    "\n",
    "def permute(a, l, r):\n",
    "\tif l == r:\n",
    "\t\tprint(toString(a))\n",
    "\telse:\n",
    "\t\tfor i in range(l, r):\n",
    "\t\t\ta[l], a[i] = a[i], a[l]\n",
    "\t\t\tpermute(a, l+1, r)\n",
    "\t\t\ta[l], a[i] = a[i], a[l] # backtrack\n",
    "\n",
    "\n",
    "# Driver code\n",
    "string = \"ABC\"\n",
    "n = len(string)\n",
    "a = list(string)\n",
    "\n",
    "# Function call\n",
    "permute(a, 0, n)\n",
    "\n",
    "# This code is contributed by Bhavya Jain\n"
   ]
  },
  {
   "cell_type": "code",
   "execution_count": null,
   "id": "9626a06c",
   "metadata": {},
   "outputs": [],
   "source": []
  },
  {
   "cell_type": "code",
   "execution_count": null,
   "id": "75646694",
   "metadata": {},
   "outputs": [],
   "source": [
    "Question 8\n",
    "\n",
    "Given an array, find a product of all array elements.\n",
    "\n",
    "Example 1:\n",
    "\n",
    "Input  : arr[] = {1, 2, 3, 4, 5}\n",
    "Output : 120\n",
    "Example 2:\n",
    "\n",
    "Input  : arr[] = {1, 6, 3}\n",
    "Output : 18\n",
    "\n"
   ]
  },
  {
   "cell_type": "code",
   "execution_count": 13,
   "id": "7e7192e8",
   "metadata": {},
   "outputs": [
    {
     "name": "stdout",
     "output_type": "stream",
     "text": [
      "The product array is:\n",
      "180 600 360 300 900 "
     ]
    }
   ],
   "source": [
    "# Python implementation of the above approach\n",
    " \n",
    "# Function to print product array for a given array\n",
    "# arr[] of size n\n",
    " \n",
    " \n",
    "def productArray(arr, n):\n",
    " \n",
    "    # Base case\n",
    "    if(n == 1):\n",
    "        print(0)\n",
    "        return\n",
    " \n",
    "    # Allocate memory for temporary arrays left[] and right[]\n",
    "    left = [0]*n\n",
    "    right = [0]*n\n",
    " \n",
    "    # Allocate memory for the product array\n",
    "    prod = [0]*n\n",
    " \n",
    "    # Left most element of left array is always 1\n",
    "    left[0] = 1\n",
    " \n",
    "    # Right most element of right array is always 1\n",
    "    right[n - 1] = 1\n",
    " \n",
    "    # Construct the left array\n",
    "    for i in range(1, n):\n",
    "        left[i] = arr[i - 1] * left[i - 1]\n",
    " \n",
    "    # Construct the right array\n",
    "    for j in range(n-2, -1, -1):\n",
    "        right[j] = arr[j + 1] * right[j + 1]\n",
    " \n",
    "    # Construct the product array using\n",
    "    # left[] and right[]\n",
    "    for i in range(n):\n",
    "        prod[i] = left[i] * right[i]\n",
    " \n",
    "    # print the constructed prod array\n",
    "    for i in range(n):\n",
    "        print(prod[i], end=' ')\n",
    " \n",
    " \n",
    "# Driver code\n",
    "arr = [10, 3, 5, 6, 2]\n",
    "n = len(arr)\n",
    "print(\"The product array is:\")\n",
    "productArray(arr, n)\n",
    " \n",
    "# This code is contributed by ankush_953"
   ]
  },
  {
   "cell_type": "code",
   "execution_count": null,
   "id": "d7f3904e",
   "metadata": {},
   "outputs": [],
   "source": []
  }
 ],
 "metadata": {
  "kernelspec": {
   "display_name": "Python 3 (ipykernel)",
   "language": "python",
   "name": "python3"
  },
  "language_info": {
   "codemirror_mode": {
    "name": "ipython",
    "version": 3
   },
   "file_extension": ".py",
   "mimetype": "text/x-python",
   "name": "python",
   "nbconvert_exporter": "python",
   "pygments_lexer": "ipython3",
   "version": "3.9.13"
  }
 },
 "nbformat": 4,
 "nbformat_minor": 5
}
